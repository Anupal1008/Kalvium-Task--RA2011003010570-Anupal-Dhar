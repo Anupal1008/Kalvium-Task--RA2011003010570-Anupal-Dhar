{
 "cells": [
  {
   "cell_type": "code",
   "execution_count": null,
   "id": "82cbc151",
   "metadata": {},
   "outputs": [],
   "source": [
    "from flask import Flask, request, render_template, jsonify\n",
    "\n",
    "app = Flask(__name__)\n",
    "\n",
    "# Initialize a list to store the history of operations\n",
    "history = []\n",
    "\n",
    "@app.route('/')\n",
    "def index():\n",
    "    return render_template('index.html')\n",
    "\n",
    "@app.route('/history')\n",
    "def show_history():\n",
    "    return render_template('history.html', history=history)\n",
    "\n",
    "@app.route('/<int:num1>/<operation>/<int:num2>/json')\n",
    "def calculate(num1, operation, num2):\n",
    "    if operation == 'plus':\n",
    "        result = num1 + num2\n",
    "    elif operation == 'minus':\n",
    "        result = num1 - num2\n",
    "    elif operation == 'into':\n",
    "        result = num1 * num2\n",
    "    else:\n",
    "        return jsonify(error=\"Invalid operation. Valid operations are 'plus', 'minus', 'into'.\"), 400\n",
    "\n",
    "    # Construct the operation string and store it in history\n",
    "    operation_str = f\"{num1} {operation} {num2}\"\n",
    "    history.append({\"question\": operation_str, \"answer\": result})\n",
    "\n",
    "    # Ensure the history list only contains the last 20 operations\n",
    "    if len(history) > 20:\n",
    "        history.pop(0)\n",
    "\n",
    "    return jsonify(question=operation_str, answer=result)\n",
    "\n",
    "if __name__ == '__main__':\n",
    "    app.run(debug=False, port=3000)\n"
   ]
  },
  {
   "cell_type": "code",
   "execution_count": null,
   "id": "b3543512",
   "metadata": {},
   "outputs": [],
   "source": []
  }
 ],
 "metadata": {
  "kernelspec": {
   "display_name": "Python 3 (ipykernel)",
   "language": "python",
   "name": "python3"
  },
  "language_info": {
   "codemirror_mode": {
    "name": "ipython",
    "version": 3
   },
   "file_extension": ".py",
   "mimetype": "text/x-python",
   "name": "python",
   "nbconvert_exporter": "python",
   "pygments_lexer": "ipython3",
   "version": "3.10.9"
  }
 },
 "nbformat": 4,
 "nbformat_minor": 5
}
